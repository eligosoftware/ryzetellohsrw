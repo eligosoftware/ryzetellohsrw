{
 "cells": [
  {
   "cell_type": "code",
   "execution_count": 1,
   "id": "ec2652cc",
   "metadata": {},
   "outputs": [],
   "source": [
    "import sys\n",
    "from tello import Tello\n",
    "import cv2\n",
    "import numpy as np\n",
    "import jetson.inference\n",
    "import jetson.utils\n",
    "from matplotlib import pyplot as plt\n",
    "import ipywidgets\n",
    "from IPython.display import display\n",
    "from jetcam.utils import bgr8_to_jpeg"
   ]
  },
  {
   "cell_type": "code",
   "execution_count": 2,
   "id": "fc98ae45",
   "metadata": {},
   "outputs": [],
   "source": [
    "# screen width and height\n",
    "w,h = 240, 180\n",
    "\n",
    "# PID controller parameters\n",
    "#kp ,kd ,ki\n",
    "#pid=[0.2,0.2,0]\n",
    "pid=[0.5,0.5,0]\n",
    "pError=0"
   ]
  },
  {
   "cell_type": "code",
   "execution_count": 3,
   "id": "7334f6a9",
   "metadata": {},
   "outputs": [],
   "source": [
    "drone_busy=False"
   ]
  },
  {
   "cell_type": "code",
   "execution_count": 4,
   "id": "5bd6286e",
   "metadata": {},
   "outputs": [
    {
     "name": "stderr",
     "output_type": "stream",
     "text": [
      "2022-02-16 17:25:39,678 [INFO] tello.py - Tello instance was initialized. tello_ip: '192.168.42.121'. Port: '8889'.\n",
      "2022-02-16 17:25:39,786 [INFO] tello.py - SDK mode successfully started\n",
      "2022-02-16 17:25:39,890 [INFO] tello.py - SDK version: 30\n",
      "2022-02-16 17:25:40,094 [INFO] tello.py - Hardware: TELLO\n",
      "2022-02-16 17:25:40,199 [INFO] tello.py - Battery percentage: 100\n"
     ]
    },
    {
     "name": "stdout",
     "output_type": "stream",
     "text": [
      "100\n",
      "{'mid': -1, 'x': -100, 'y': -100, 'z': -100, 'mpry': '0,0,0', 'pitch': 0, 'roll': 0, 'yaw': 0, 'vgx': 0, 'vgy': 0, 'vgz': 0, 'templ': 64, 'temph': 67, 'tof': 10, 'h': 0, 'bat': 100, 'baro': 187.2, 'time': 0, 'agx': 0.0, 'agy': 2.0, 'agz': -999.0}\n"
     ]
    },
    {
     "name": "stderr",
     "output_type": "stream",
     "text": [
      "2022-02-16 17:25:40,508 [INFO] tello.py - Video stream enabled\n"
     ]
    }
   ],
   "source": [
    "# create Tello drone instance\n",
    "me =Tello(tello_ip='192.168.42.121')\n",
    "\n",
    "# set yaw_velocity default value to 0\n",
    "me.yaw_velocity=0\n",
    "\n",
    "# connect to drone\n",
    "me.connect()\n",
    "# print drone state and battery information\n",
    "# state information contains battery information\n",
    "print(me.get_battery())\n",
    "print(me.get_current_state())\n",
    "\n",
    "# start stream for getting video\n",
    "me.stream_on()"
   ]
  },
  {
   "cell_type": "code",
   "execution_count": 5,
   "id": "9822d996",
   "metadata": {},
   "outputs": [],
   "source": [
    "# create network instance of SSD-mobilenet-v2 network with precision threshold equal to 0.5\n",
    "net = jetson.inference.detectNet(\"ssd-mobilenet-v2\", threshold=0.5)"
   ]
  },
  {
   "cell_type": "code",
   "execution_count": 6,
   "id": "c53fea25",
   "metadata": {},
   "outputs": [],
   "source": [
    "# this function stops the drone's yaw movement\n",
    "# when no person is detected\n",
    "def stop_tracking(myDrone):\n",
    "\n",
    "# set yaw_velocity to 0\n",
    "\tmyDrone.yaw_velocity = 0\n",
    "\n",
    "# send the set value to drone via Tello's joystick_control command\n",
    "\tsend_command(\"joystick_control\",myDrone.yaw_velocity)#myDrone.joystick_control(0,0,myDrone.yaw_velocity,0)"
   ]
  },
  {
   "cell_type": "code",
   "execution_count": 7,
   "id": "6fe8af16",
   "metadata": {},
   "outputs": [],
   "source": [
    "# this function receives drone instance, information about center coordinates (x,y) of person, pid k values\n",
    "# and the last error value, calculas yaw speed and new error, sends this yaw speed to drone (or stop movement\n",
    "# signal, in case of missing detection), and returns new error value back to calling thread\n",
    "def trackPerson(myDrone, info, w, pid, pError):\n",
    "\t#print(\"start tracking\")\n",
    "\t# calculate new PID error and speed based on the center x value of detected Person and the center of image\n",
    "\terror=info[0] -w//2\n",
    "\tspeed=pid[0]*error+pid[1]*(error-pError)\n",
    "\tspeed=int(np.clip(speed,-100,100))\n",
    "\n",
    "\tprint(speed)\n",
    "\n",
    "\t# if there is a detection, value of center is different from 0\n",
    "\tif info[0]!=0:\n",
    "\t\tmyDrone.yaw_velocity= speed\n",
    "\telse:\n",
    "\t# in case of missing detection stop moving in yaw space\n",
    "\t\tmyDrone.yaw_velocity = 0\n",
    "\t\terror=0\n",
    "\tprint(\"sending yaw velocity, \", myDrone.yaw_velocity)\n",
    "\t# chack for possibility of sending joystick_control command and send the calculated speed\n",
    "\t#if myDrone.joystick_control:\n",
    "\t#send_command(\"joystick_control\",0)\n",
    "\tsend_command(\"joystick_control\",speed)#myDrone.yaw_velocity)#myDrone.joystick_control(0,0,myDrone.yaw_velocity,0)\n",
    "\t# return error for the next iteration\n",
    "\treturn error\n"
   ]
  },
  {
   "cell_type": "code",
   "execution_count": 8,
   "id": "57360757",
   "metadata": {},
   "outputs": [],
   "source": [
    "def send_command(command, arg=0):\n",
    "    global drone_busy\n",
    "    if command==\"move_left\":\n",
    "        while True:\n",
    "            if(drone_busy==False):\n",
    "                drone_busy=True\n",
    "                me.move_left(arg)\n",
    "                drone_busy=False\n",
    "                break\n",
    "    elif command==\"move_right\":\n",
    "        while True:\n",
    "            if(drone_busy==False):\n",
    "                drone_busy=True\n",
    "                me.move_right(arg)\n",
    "                drone_busy=False\n",
    "                break\n",
    "    elif command==\"move_up\":\n",
    "        while True:\n",
    "            if(drone_busy==False):\n",
    "                drone_busy=True\n",
    "                me.move_up(arg)\n",
    "                drone_busy=False\n",
    "                break\n",
    "    elif command==\"move_down\":\n",
    "        while True:\n",
    "            if(drone_busy==False):\n",
    "                drone_busy=True\n",
    "                me.move_down(arg)\n",
    "                drone_busy=False\n",
    "                break\n",
    "                \n",
    "    elif command==\"move_forward\":\n",
    "        while True:\n",
    "            if(drone_busy==False):\n",
    "                drone_busy=True\n",
    "                me.move_forward(arg)\n",
    "                drone_busy=False\n",
    "                break\n",
    "    elif command==\"move_backward\":\n",
    "        while True:\n",
    "            if(drone_busy==False):\n",
    "                drone_busy=True\n",
    "                me.move_backward(arg)\n",
    "                drone_busy=False\n",
    "                break\n",
    "    elif command==\"rotate_counterclockwise\":\n",
    "        while True:\n",
    "            if(drone_busy==False):\n",
    "                drone_busy=True\n",
    "                me.rotate_counterclockwise(arg)\n",
    "                drone_busy=False\n",
    "                break\n",
    "    elif command==\"rotate_clockwise\":\n",
    "        while True:\n",
    "            if(drone_busy==False):\n",
    "                drone_busy=True\n",
    "                me.rotate_clockwise(arg)\n",
    "                drone_busy=False\n",
    "                break\n",
    "    elif command==\"land\":\n",
    "        while True:\n",
    "            if(drone_busy==False):\n",
    "                drone_busy=True\n",
    "                me.land()\n",
    "                drone_busy=False\n",
    "                break\n",
    "    elif command==\"takeoff\":\n",
    "        while True:\n",
    "            if(drone_busy==False):\n",
    "                drone_busy=True\n",
    "                me.takeoff()\n",
    "                drone_busy=False\n",
    "                break\n",
    "    elif command==\"joystick_control\":\n",
    "        while True:\n",
    "            if(drone_busy==False):\n",
    "                drone_busy=True\n",
    "                me.joystick_control(0,0,0,0)\n",
    "                me.joystick_control(0,0,arg,0)\n",
    "                drone_busy=False\n",
    "                break\n",
    "    drone_busy=False\n",
    "    \n",
    "                "
   ]
  },
  {
   "cell_type": "code",
   "execution_count": 9,
   "id": "5952c1fe",
   "metadata": {},
   "outputs": [],
   "source": [
    "# this function uses keyboard press information from OpenCV to send basic movement commands to Tello\n",
    "def navigate3(key):\n",
    "    print(key)\n",
    "    # using global drone value\n",
    "    global me\n",
    "    global drone_busy\n",
    "    # setting distance (in cm) and angle (in degrees) values for movements\n",
    "    distance=30\n",
    "    angle=20\n",
    "\n",
    "    # checking for code and sending the command\n",
    "    if key==\"left\" : send_command(\"move_left\",distance)\n",
    "    elif key==\"right\" :send_command(\"move_right\",distance)\n",
    "\n",
    "    if key==\"forward\": send_command(\"move_forward\",distance)\n",
    "    elif key==\"back\": send_command(\"move_backward\",distance)\n",
    "\n",
    "    if key==\"w\": send_command(\"move_up\",distance)\n",
    "    elif key==\"s\": send_command(\"move_down\",distance)\n",
    "\n",
    "    if key==\"a\": \n",
    "        print(\"a rotate counter clockwise\")\n",
    "        send_command(\"rotate_counterclockwise\",angle)\n",
    "    elif key==\"d\": send_command(\"rotate_clockwise\",angle)\n",
    "\n",
    "    if key==\"land\": send_command(\"land\")\n",
    "    # some commands were deactivated and being tested right now\n",
    "    #if kp.getKey(\"l\"): me.go_xyz_speed(0,0,10,10)\n",
    "    if key==\"to\": send_command(\"takeoff\")\n",
    "    #if kp.getKey(\"1\"): me.send_command_with_return('downvision 0')\n",
    "    #if kp.getKey(\"2\"): me.send_command_with_return('downvision 1')"
   ]
  },
  {
   "cell_type": "code",
   "execution_count": 10,
   "id": "11f78817",
   "metadata": {},
   "outputs": [],
   "source": [
    "# this function uses keyboard press information from OpenCV to send basic movement commands to Tello\n",
    "def navigate2(key):\n",
    "    print(key)\n",
    "    # using global drone value\n",
    "    global me\n",
    "    global drone_busy\n",
    "    # setting distance (in cm) and angle (in degrees) values for movements\n",
    "    distance=30\n",
    "    angle=20\n",
    "\n",
    "    # checking for code and sending the command\n",
    "    if key==\"left\" : me.move_left(distance)\n",
    "    elif key==\"right\" : me.move_right(distance)\n",
    "\n",
    "    if key==\"forward\": me.move_forward(distance)\n",
    "    elif key==\"back\": me.move_backward(distance)\n",
    "\n",
    "    if key==\"w\": me.move_up(distance)\n",
    "    elif key==\"s\": me.move_down(distance)\n",
    "\n",
    "    if key==\"a\": \n",
    "        print(\"a rotate counter clockwise\")\n",
    "        me.rotate_counterclockwise(angle)\n",
    "    elif key==\"d\": me.rotate_clockwise(angle)\n",
    "\n",
    "    if key==\"land\": me.land()\n",
    "    # some commands were deactivated and being tested right now\n",
    "    #if kp.getKey(\"l\"): me.go_xyz_speed(0,0,10,10)\n",
    "    if key==\"to\": me.takeoff()\n",
    "    #if kp.getKey(\"1\"): me.send_command_with_return('downvision 0')\n",
    "    #if kp.getKey(\"2\"): me.send_command_with_return('downvision 1')"
   ]
  },
  {
   "cell_type": "code",
   "execution_count": 11,
   "id": "8a0edb49",
   "metadata": {},
   "outputs": [],
   "source": [
    "# this function uses keyboard press information from OpenCV to send basic movement commands to Tello\n",
    "def navigate(key):\n",
    "# the codes of keys from opencv\n",
    "# 119 w\n",
    "# 101 e\n",
    "# 100 d\n",
    "# 97 a\n",
    "# 115 s\n",
    "# 104 h\n",
    "# 106 j\n",
    "# 107 k\n",
    "# 108 l\n",
    "# 113 q\n",
    "# 114 r\n",
    "# 101 e\n",
    "\n",
    "# using global drone value\n",
    "\tglobal me\n",
    "# setting distance (in cm) and angle (in degrees) values for movements\n",
    "\tdistance=30\n",
    "\tangle=20\n",
    "\n",
    "\t# checking for code and sending the command\n",
    "\tif key==104 : me.move_left(distance)\n",
    "\telif key==106 : me.move_right(distance)\n",
    "\n",
    "\tif key==107: me.move_forward(distance)\n",
    "\telif key==108: me.move_backward(distance)\n",
    "\n",
    "\tif key==119: me.move_up(distance)\n",
    "\telif key==115: me.move_down(distance)\n",
    "\n",
    "\tif key==97: me.rotate_counterclockwise(angle)\n",
    "\telif key==100: me.rotate_clockwise(angle)\n",
    "\t\n",
    "\tif key==114: me.land()\n",
    "\t# some commands were deactivated and being tested right now\n",
    "\t#if kp.getKey(\"l\"): me.go_xyz_speed(0,0,10,10)\n",
    "\tif key==101: me.takeoff()\n",
    "\t#if kp.getKey(\"1\"): me.send_command_with_return('downvision 0')\n",
    "\t#if kp.getKey(\"2\"): me.send_command_with_return('downvision 1')"
   ]
  },
  {
   "cell_type": "code",
   "execution_count": 12,
   "id": "b8ede07c",
   "metadata": {},
   "outputs": [],
   "source": [
    "image_widget = ipywidgets.Image(format='jpeg')\n",
    "\n",
    "image_widget.value = bgr8_to_jpeg(me.read_frame())\n",
    "\n",
    "\n"
   ]
  },
  {
   "cell_type": "code",
   "execution_count": 13,
   "id": "2ba42f15",
   "metadata": {},
   "outputs": [],
   "source": [
    "def update_image(frame):\n",
    "    image_widget.value = bgr8_to_jpeg(frame)"
   ]
  },
  {
   "cell_type": "code",
   "execution_count": 14,
   "id": "d0888e9d",
   "metadata": {},
   "outputs": [],
   "source": [
    "distance=30\n",
    "angle=20"
   ]
  },
  {
   "cell_type": "code",
   "execution_count": 15,
   "id": "32755068",
   "metadata": {},
   "outputs": [],
   "source": [
    "def send_to_navigate2(inp):\n",
    "    #print(inp)\n",
    "    navigate3(inp.description.lower())"
   ]
  },
  {
   "cell_type": "code",
   "execution_count": 16,
   "id": "14eca939",
   "metadata": {},
   "outputs": [],
   "source": [
    "buttonW=ipywidgets.Button(description='W')\n",
    "buttonW.on_click(send_to_navigate2)\n",
    "buttonS=ipywidgets.Button(description='S')\n",
    "buttonS.on_click(send_to_navigate2)\n",
    "buttonA=ipywidgets.Button(description='A')\n",
    "buttonA.on_click(send_to_navigate2)\n",
    "buttonD=ipywidgets.Button(description='D')\n",
    "buttonD.on_click(send_to_navigate2)\n",
    "\n",
    "\n",
    "buttonU=ipywidgets.Button(description='FORWARD')\n",
    "buttonU.on_click(send_to_navigate2)\n",
    "buttonDown=ipywidgets.Button(description='BACK')\n",
    "buttonDown.on_click(send_to_navigate2)\n",
    "buttonL=ipywidgets.Button(description='LEFT')\n",
    "buttonL.on_click(send_to_navigate2)\n",
    "buttonR=ipywidgets.Button(description='RIGHT')\n",
    "buttonR.on_click(send_to_navigate2)\n",
    "buttonland=ipywidgets.Button(description='LAND')\n",
    "buttonland.on_click(send_to_navigate2)\n",
    "buttontakeoff=ipywidgets.Button(description='TO')\n",
    "buttontakeoff.on_click(send_to_navigate2)"
   ]
  },
  {
   "cell_type": "code",
   "execution_count": 17,
   "id": "25827b21",
   "metadata": {},
   "outputs": [],
   "source": [
    "all_widget = ipywidgets.VBox([\n",
    "    #image_widget,\n",
    "    ipywidgets.HBox([ipywidgets.VBox([buttonW,\n",
    "    ipywidgets.HBox([buttonA, buttonD]),buttonS\n",
    "]), ipywidgets.VBox([buttonU,\n",
    "    ipywidgets.HBox([buttonL, buttonR]),buttonDown\n",
    "]), ipywidgets.VBox([buttonland,buttontakeoff\n",
    "])]),\n",
    "])\n",
    "\n",
    "#display(all_widget)"
   ]
  },
  {
   "cell_type": "code",
   "execution_count": 18,
   "id": "1d9a0b68",
   "metadata": {},
   "outputs": [],
   "source": [
    "import threading"
   ]
  },
  {
   "cell_type": "code",
   "execution_count": 19,
   "id": "e46fbbfc",
   "metadata": {},
   "outputs": [],
   "source": [
    "def detect_camera():\n",
    "    global pError\n",
    "    global drone_busy\n",
    "    while True:\n",
    "        # read frame from Tello\n",
    "        frame=me.read_frame()\n",
    "\n",
    "\n",
    "        if (frame is not None):\n",
    "            # resize frame image to width and height, given above\n",
    "            img = cv2.resize(frame, (w, h))\n",
    "            #img = cv2.cvtColor(img, cv2.COLOR_BGR2GRAY)\n",
    "\n",
    "            # change the image format from Numpy array to CUDA (used for jetson detection)\n",
    "            cuda_image=jetson.utils.cudaFromNumpy(img)\n",
    "            # detect objects from CUDA image\n",
    "            detections = net.Detect(cuda_image)\n",
    "\n",
    "            # flag for checking if object was found\n",
    "            object_found = False\n",
    "            # list for center coordinates of object\n",
    "            objectsListC = []\n",
    "            # list for area values of detections\n",
    "            objectsArea = []\n",
    "            # iterate over detections\n",
    "            for detection in detections:\n",
    "                # get class name from ID\n",
    "                cl_name=net.GetClassDesc(detection.ClassID)\n",
    "                # get detection center coordinates\n",
    "                center=detection.Center\n",
    "                # check for class name, only person is required in this implementation\n",
    "                if (cl_name==\"person\"):\n",
    "                    # set the flag to true\n",
    "                    object_found=True\n",
    "                    # print detection values\n",
    "                    #print(\"Top: {}, Bottom: {}, Left: {}, Right: {}, Height: {}, Width: {}, Area: {}, Center: {}, \".format(detection.Top,detection.Bottom,detection.Left,detection.Right,detection.Height,detection.Width, detection.Area,detection.Center))\n",
    "                    # append found detection center and area to responding lists\n",
    "                    objectsListC.append(detection.Center)\n",
    "                    objectsArea.append(detection.Area)\n",
    "            # if there were detections found\n",
    "            #stop_tracking(me)\n",
    "            if len(objectsArea) != 0:\n",
    "                # get the center value with maximum area\n",
    "                i = objectsArea.index(max(objectsArea))\n",
    "                # send tracking command and update PID error value\n",
    "                pError = trackPerson(me, objectsListC[i], w, pid, pError)\n",
    "            # if object was not found\n",
    "            #if object_found == False:\n",
    "            #stop drone movement\n",
    "                #stop_tracking(me)\n",
    "\n",
    "            # test code for understanding detection objects inside structure\n",
    "            #print(dir(detection))\n",
    "            #['Area', 'Bottom', 'Center', 'ClassID', 'Confidence', 'Contains', 'Height', 'Instance', 'Left', 'ROI', 'Right', 'Top', 'Width', '__class__', '__delattr__', '__dir__', '__doc__', '__eq__', '__format__', '__ge__', '__getattribute__', '__gt__', '__hash__', '__init__', '__init_subclass__', '__le__', '__lt__', '__ne__', '__new__', '__reduce__', '__reduce_ex__', '__repr__', '__setattr__', '__sizeof__', '__str__', '__subclasshook__']\n",
    "\n",
    "            #Top: 214.1015625, Bottom: 655.6640625, Left: 672.1875, Right: 841.875, Height: 441.5625, Width: 169.6875, Area: 74927.640625, Center: (757.03125, 434.8828125), \n",
    "\n",
    "            # convert the cuda image with detections on it back to numpy image\n",
    "            nmp_img=jetson.utils.cudaToNumpy(cuda_image)\n",
    "            # show that numpy image on desktop\n",
    "            #cv2.imshow('image', nmp_img)\n",
    "            #nmp_img== cv2.cvtColor(nmp_img, cv2.COLOR_BGR2GRAY)\n",
    "\n",
    "            update_image(nmp_img)\n",
    "            #_, encoded=cv2.imencode('.png',nmp_img)[1]\n",
    "            #im_bytes=nmp_img.tobytes()\n",
    "            #base64String=base64.b64encode(im_bytes)#encoded.tostring().encode('base64')\n",
    "            #display(HTML('&amp;amp;lt;img src=\"data:image/png;base64,%s\" width=300px&amp;amp;gt;&amp;amp;lt;/img&amp;amp;gt;'%base64String))\n",
    "            # opencv wait for keyboard press\n",
    "            res = cv2.waitKey(1)\n",
    "            # if (res!=-1):\n",
    "            # \tprint('You pressed %d (0x%x), LSB: %d (%s)' % (res, res, res % 256,\n",
    "            # repr(chr(res%256)) if res%256 < 128 else '?'))\n",
    "            # if q was pressed land drone and stop loop execution\n",
    "            if(chr(res%256)=='q'):\n",
    "                me.land()\n",
    "                break\n",
    "            # else use the given command to move the drone\n",
    "            navigate(res)"
   ]
  },
  {
   "cell_type": "code",
   "execution_count": 20,
   "id": "940b009d",
   "metadata": {},
   "outputs": [],
   "source": [
    "new_thread = threading.Thread(target=detect_camera)\n",
    "new_thread.start()"
   ]
  },
  {
   "cell_type": "code",
   "execution_count": 21,
   "id": "7000dd1d",
   "metadata": {},
   "outputs": [
    {
     "data": {
      "application/vnd.jupyter.widget-view+json": {
       "model_id": "7b5dedba175f48aebbf5b304d02829ff",
       "version_major": 2,
       "version_minor": 0
      },
      "text/plain": [
       "Image(value=b'\\xff\\xd8\\xff\\xe0\\x00\\x10JFIF\\x00\\x01\\x01\\x00\\x00\\x01\\x00\\x01\\x00\\x00\\xff\\xdb\\x00C\\x00\\x02\\x01\\x0…"
      ]
     },
     "metadata": {},
     "output_type": "display_data"
    }
   ],
   "source": [
    "display(image_widget)"
   ]
  },
  {
   "cell_type": "code",
   "execution_count": 22,
   "id": "a58b776c",
   "metadata": {},
   "outputs": [
    {
     "data": {
      "application/vnd.jupyter.widget-view+json": {
       "model_id": "c69ee5b17b864238b78438d9c16858be",
       "version_major": 2,
       "version_minor": 0
      },
      "text/plain": [
       "VBox(children=(HBox(children=(VBox(children=(Button(description='W', style=ButtonStyle()), HBox(children=(Butt…"
      ]
     },
     "metadata": {},
     "output_type": "display_data"
    }
   ],
   "source": [
    "display(all_widget)"
   ]
  },
  {
   "cell_type": "code",
   "execution_count": 41,
   "id": "108234ad",
   "metadata": {},
   "outputs": [
    {
     "data": {
      "application/vnd.jupyter.widget-view+json": {
       "model_id": "17f1e8591f334f18a9f5e358ffc973a4",
       "version_major": 2,
       "version_minor": 0
      },
      "text/plain": [
       "GridBox(children=(Button(description='Save', style=ButtonStyle()),), layout=Layout(grid_gap='5px 10px', grid_t…"
      ]
     },
     "metadata": {},
     "output_type": "display_data"
    }
   ],
   "source": [
    "btn = ipywidgets.Button(description=\"Save\")\n",
    "btnA = ipywidgets.Button(description=\"A\")\n",
    "btnB = ipywidgets.Button(description=\"B\")\n",
    "btnC = ipywidgets.Button(description=\"C\")\n",
    "box_layout = ipywidgets.Layout(display='flex',\n",
    "                flex_flow='column',\n",
    "                align_items='center',\n",
    "                width='50%')\n",
    "box = ipywidgets.GridBox(children=[btn],\n",
    "        layout=ipywidgets.Layout(\n",
    "            width='50%',\n",
    "            grid_template_columns='100px 50px 100px 200p',\n",
    "            grid_template_rows='80px auto 80px',\n",
    "            grid_gap='25px 50px')\n",
    "       )\n",
    "display(box)"
   ]
  },
  {
   "cell_type": "code",
   "execution_count": 40,
   "id": "3175d45e",
   "metadata": {},
   "outputs": [
    {
     "data": {
      "text/plain": [
       "[Button(layout=Layout(height='auto', width='auto'), style=ButtonStyle(button_color='darkseagreen')),\n",
       " Button(layout=Layout(height='auto', width='auto'), style=ButtonStyle(button_color='darkseagreen')),\n",
       " Button(layout=Layout(height='auto', width='auto'), style=ButtonStyle(button_color='darkseagreen')),\n",
       " Button(layout=Layout(height='auto', width='auto'), style=ButtonStyle(button_color='darkseagreen')),\n",
       " Button(layout=Layout(height='auto', width='auto'), style=ButtonStyle(button_color='darkseagreen')),\n",
       " Button(layout=Layout(height='auto', width='auto'), style=ButtonStyle(button_color='darkseagreen')),\n",
       " Button(layout=Layout(height='auto', width='auto'), style=ButtonStyle(button_color='darkseagreen')),\n",
       " Button(layout=Layout(height='auto', width='auto'), style=ButtonStyle(button_color='darkseagreen')),\n",
       " Button(layout=Layout(height='auto', width='auto'), style=ButtonStyle(button_color='darkseagreen'))]"
      ]
     },
     "execution_count": 40,
     "metadata": {},
     "output_type": "execute_result"
    }
   ],
   "source": [
    "[ipywidgets.Button(layout=ipywidgets.Layout(width='auto', height='auto'),\n",
    "                         style=ipywidgets.ButtonStyle(button_color='darkseagreen')) for i in range(9)]"
   ]
  },
  {
   "cell_type": "code",
   "execution_count": null,
   "id": "4e090ebb",
   "metadata": {},
   "outputs": [],
   "source": [
    "all_widget = ipywidgets.VBox([\n",
    "    #image_widget,\n",
    "    ipywidgets.HBox([ipywidgets.VBox([buttonW,\n",
    "    ipywidgets.HBox([buttonA, buttonD]),buttonS\n",
    "]), ipywidgets.VBox([buttonU,\n",
    "    ipywidgets.HBox([buttonL, buttonR]),buttonDown\n",
    "]), ipywidgets.VBox([buttonland,buttontakeoff\n",
    "])]),\n",
    "])"
   ]
  },
  {
   "cell_type": "code",
   "execution_count": null,
   "id": "23d2a7ca",
   "metadata": {},
   "outputs": [],
   "source": []
  }
 ],
 "metadata": {
  "kernelspec": {
   "display_name": "Python 3",
   "language": "python",
   "name": "python3"
  },
  "language_info": {
   "codemirror_mode": {
    "name": "ipython",
    "version": 3
   },
   "file_extension": ".py",
   "mimetype": "text/x-python",
   "name": "python",
   "nbconvert_exporter": "python",
   "pygments_lexer": "ipython3",
   "version": "3.6.9"
  }
 },
 "nbformat": 4,
 "nbformat_minor": 5
}
